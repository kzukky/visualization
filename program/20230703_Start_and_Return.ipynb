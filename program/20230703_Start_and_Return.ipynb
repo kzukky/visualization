{
 "cells": [
  {
   "cell_type": "code",
   "execution_count": 1,
   "metadata": {},
   "outputs": [],
   "source": [
    "# Many figures on the Internet tend to show \n",
    "# how greatly the S&P 500 has risen up since ancient time.\n",
    "# As each of us starts investing in different times,\n",
    "# the relation between starting time and return would be more important.\n",
    "\n",
    "# This program draws;\n",
    "# a. the relation between\n",
    "#    (X) the acquision date, and\n",
    "#    (Y) the annualized return as of the latest date\n",
    "# b. the relation between\n",
    "#    (X) the starting time of dollar cost avaraging strategy, and\n",
    "#    (Y) the annualized return as of the latest date"
   ]
  },
  {
   "cell_type": "code",
   "execution_count": 2,
   "metadata": {},
   "outputs": [],
   "source": [
    "import yfinance as yf\n",
    "import pandas as pd\n",
    "import numpy as np\n",
    "import matplotlib.pyplot as plt"
   ]
  },
  {
   "cell_type": "code",
   "execution_count": 3,
   "metadata": {},
   "outputs": [
    {
     "name": "stdout",
     "output_type": "stream",
     "text": [
      "[*********************100%***********************]  1 of 1 completed\n"
     ]
    }
   ],
   "source": [
    "# interval '1d' gets older data than '1mo'\n",
    "df_SP500 = yf.download(['^GSPC'],interval='1d',period='max')\n",
    "\n",
    "# calculate monthly\n",
    "df_SP500['year'] = df_SP500.index.year\n",
    "df_SP500['month'] = df_SP500.index.month\n",
    "\n",
    "df_SP500.sort_index(inplace=True)\n",
    "df_SP500.drop_duplicates(['year','month'],inplace=True)\n",
    "\n",
    "df_SP500['gap_month'] = range(len(df_SP500)-1,-1,-1)"
   ]
  },
  {
   "attachments": {},
   "cell_type": "markdown",
   "metadata": {},
   "source": [
    "a."
   ]
  },
  {
   "cell_type": "code",
   "execution_count": 4,
   "metadata": {},
   "outputs": [],
   "source": [
    "latest_close = df_SP500['Close'][-1]\n",
    "# df_SP500['a_return'] = latest_close / df_SP500['Close'] - 1\n",
    "df_SP500['a_return_annualized'] = (latest_close / df_SP500['Close']) ** (12/df_SP500['gap_month']) - 1"
   ]
  },
  {
   "cell_type": "code",
   "execution_count": 5,
   "metadata": {},
   "outputs": [],
   "source": [
    "latest_date = df_SP500.index[-1].strftime('%Y/%m/%d')\n",
    "\n",
    "fig = plt.figure(figsize=(20,10))\n",
    "plt.style.use('dark_background')\n",
    "plt.rcParams['font.size'] = 15\n",
    "# plt.xlim(0, 21)\n",
    "plt.ylim(-10, 30)\n",
    "plt.xlabel(\"Acquisition Month\")\n",
    "plt.ylabel(f\"Annualized Return [%]\")\n",
    "# plt.xticks(ticks=range(21), labels=range(21))\n",
    "# plt.yticks(ticks=[i*10000 for i in range(4+1)], labels=[f\"{i*10000:,}\" for i in range(4+1)])\n",
    "plt.gca().spines['right'].set_visible(False)\n",
    "plt.gca().spines['top'].set_visible(False)\n",
    "plt.title(f\"Acquisition Month and Annualized Return of S&P 500\\n(as of {latest_date})\")\n",
    "\n",
    "plt.plot(df_SP500['a_return_annualized']*100,linestyle=\"-\",color='white',linewidth=2)\n",
    "for _x in df_SP500.index[df_SP500['month']==1]:\n",
    "    plt.axvline(x=_x,color=\"grey\",linewidth=0.5)\n",
    "for _x in df_SP500.index[(df_SP500['month']==1) & (df_SP500['year']%10==0)]:\n",
    "    plt.axvline(x=_x,color=\"white\",linewidth=0.5)\n",
    "for _y in np.arange(-10,30+1,5):\n",
    "    plt.axhline(y=_y,color=\"grey\",linewidth=0.5)\n",
    "plt.axhline(y=0,color=\"white\",linewidth=1)\n",
    "\n",
    "fig.savefig(\"../output/20230703_Start_and_Return_a.png\")\n",
    "plt.close()\n"
   ]
  },
  {
   "attachments": {},
   "cell_type": "markdown",
   "metadata": {},
   "source": [
    "b."
   ]
  },
  {
   "cell_type": "code",
   "execution_count": 6,
   "metadata": {},
   "outputs": [],
   "source": [
    "constant = 10000\n",
    "df_SP500['b_quantity'] = constant / df_SP500['Close']\n",
    "df_SP500.at[df_SP500.index[-1],'b_quantity'] = 0\n",
    "df_SP500['b_quantity_cumsum'] = df_SP500.loc[::-1,'b_quantity'].cumsum()[::-1]\n",
    "df_SP500['b_balance'] = latest_close * df_SP500['b_quantity_cumsum']\n",
    "df_SP500['b_cost'] = df_SP500['gap_month']*constant\n",
    "\n",
    "df_SP500['b_return_annualized'] = (df_SP500['b_balance'] / df_SP500['b_cost']) ** (12/df_SP500['gap_month']) - 1\n",
    "df_SP500['b_return_annualized'].fillna(0,inplace=True)"
   ]
  },
  {
   "cell_type": "code",
   "execution_count": 7,
   "metadata": {},
   "outputs": [],
   "source": [
    "fig = plt.figure(figsize=(20,10))\n",
    "plt.style.use('dark_background')\n",
    "plt.rcParams['font.size'] = 15\n",
    "# plt.xlim(0, 21)\n",
    "plt.ylim(0, 20)\n",
    "plt.xlabel(\"Starting Month\")\n",
    "plt.ylabel(f\"Annualized Return [%]\")\n",
    "# plt.xticks(ticks=range(21), labels=range(21))\n",
    "plt.yticks(ticks=np.arange(0,21,2), labels=[f\"{i:,}\" for i in np.arange(0,21,2)])\n",
    "plt.gca().spines['right'].set_visible(False)\n",
    "plt.gca().spines['top'].set_visible(False)\n",
    "plt.title(f\"Dollar Cost Strategy Starting Month and Annualized Return of S&P 500\\n(as of {latest_date})\")\n",
    "\n",
    "plt.plot(df_SP500['b_return_annualized']*100,linestyle=\"-\",color='white',linewidth=2)\n",
    "for _x in df_SP500.index[df_SP500['month']==1]:\n",
    "    plt.axvline(x=_x,color=\"grey\",linewidth=0.5)\n",
    "for _x in df_SP500.index[(df_SP500['month']==1) & (df_SP500['year']%10==0)]:\n",
    "    plt.axvline(x=_x,color=\"white\",linewidth=0.5)\n",
    "for _y in np.arange(0,20+1,2):\n",
    "    plt.axhline(y=_y,color=\"grey\",linewidth=0.5)\n",
    "plt.axhline(y=0,color=\"white\",linewidth=1)\n",
    "fig.savefig(\"../output/20230703_Start_and_Return_b_DCA.png\")\n",
    "plt.close()\n"
   ]
  },
  {
   "cell_type": "code",
   "execution_count": null,
   "metadata": {},
   "outputs": [],
   "source": []
  }
 ],
 "metadata": {
  "kernelspec": {
   "display_name": "Python 3",
   "language": "python",
   "name": "python3"
  },
  "language_info": {
   "codemirror_mode": {
    "name": "ipython",
    "version": 3
   },
   "file_extension": ".py",
   "mimetype": "text/x-python",
   "name": "python",
   "nbconvert_exporter": "python",
   "pygments_lexer": "ipython3",
   "version": "3.8.2"
  },
  "orig_nbformat": 4
 },
 "nbformat": 4,
 "nbformat_minor": 2
}
