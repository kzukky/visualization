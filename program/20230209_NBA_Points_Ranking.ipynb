{
 "cells": [
  {
   "cell_type": "code",
   "execution_count": 1,
   "metadata": {},
   "outputs": [],
   "source": [
    "import time\n",
    "\n",
    "import requests\n",
    "from bs4 import BeautifulSoup\n",
    "import pandas as pd\n",
    "from tqdm import tqdm"
   ]
  },
  {
   "cell_type": "code",
   "execution_count": 2,
   "metadata": {},
   "outputs": [],
   "source": [
    "url = \"https://www.basketball-reference.com/leaders/pts_career.html\"\n",
    "res = requests.get(url)\n",
    "soup = BeautifulSoup(res.text,\"html.parser\")"
   ]
  },
  {
   "cell_type": "code",
   "execution_count": 3,
   "metadata": {},
   "outputs": [],
   "source": [
    "l_players = []\n",
    "for elmt in soup.select(\"table#tot\")[0].select(\"tr\"):\n",
    "    tds = elmt.select(\"td\")\n",
    "    strong = elmt.select(\"strong\") # active player\n",
    "\n",
    "    if tds:\n",
    "        rank = tds[0].text\n",
    "        name = tds[1].text.strip().replace(\"*\",\"\")\n",
    "        href = tds[1].a.get(\"href\")\n",
    "        isActive = 1 if strong else 0\n",
    "        l_players.append([rank,name,href,isActive])\n",
    "\n",
    "df_players = pd.DataFrame(l_players,columns=[\"rank\",\"name\",\"href\",\"isActive\"])"
   ]
  },
  {
   "cell_type": "code",
   "execution_count": 4,
   "metadata": {},
   "outputs": [
    {
     "name": "stderr",
     "output_type": "stream",
     "text": [
      "100%|██████████| 8/8 [00:09<00:00,  1.13s/it]\n"
     ]
    }
   ],
   "source": [
    "l_df_season = []\n",
    "df_players_active = df_players.query('isActive==1').head(8)\n",
    "for _,name,href,_ in tqdm(df_players_active.values,total=len(df_players_active)):\n",
    "    time.sleep(0.5)\n",
    "    url = \"https://www.basketball-reference.com\" + href\n",
    "    res = requests.get(url)\n",
    "    soup = BeautifulSoup(res.text,\"html.parser\")\n",
    "\n",
    "    l = []\n",
    "    for elmt in soup.select(\"table#totals\")[0].select(\"tbody > tr\"):\n",
    "        season = elmt.select(\"th\")[0].text\n",
    "        points = elmt.select(\"[data-stat='pts']\")[0].text\n",
    "        l.append([name, season, points])\n",
    "\n",
    "    l_df_season.append(pd.DataFrame(l,columns=[\"name\",\"season\",\"pts\"]))"
   ]
  },
  {
   "cell_type": "code",
   "execution_count": 5,
   "metadata": {},
   "outputs": [],
   "source": [
    "_df_season = pd.concat(l_df_season)\n",
    "_df_season[\"pts\"] = _df_season[\"pts\"].astype(int)\n",
    "df_season = _df_season.groupby([\"name\",\"season\"],as_index=False)[\"pts\"].sum()\n",
    "df_season[\"pts_cumsum\"] = df_season.groupby([\"name\"])[\"pts\"].cumsum()\n",
    "df_season[\"season_year\"] = df_season.groupby([\"name\"]).cumcount()+1\n",
    "df_season = pd.concat([df_season, pd.DataFrame({\"name\":df_season[\"name\"].drop_duplicates(),\"pts_cumsum\":0,\"season_year\":0})])\n"
   ]
  },
  {
   "cell_type": "code",
   "execution_count": 6,
   "metadata": {},
   "outputs": [],
   "source": [
    "df_season_pivot = df_season.pivot_table(values=\"pts_cumsum\",index=\"season_year\",columns=\"name\")"
   ]
  },
  {
   "cell_type": "code",
   "execution_count": null,
   "metadata": {},
   "outputs": [],
   "source": [
    "import matplotlib.pyplot as plt\n",
    "from matplotlib.animation import ArtistAnimation\n",
    "from IPython import display\n",
    "\n",
    "df_setting = pd.DataFrame([\n",
    "    [\"Chris Paul\",       \"grey\", 0.5,-1000,0.5],\n",
    "    [\"DeMar DeRozan\",    \"grey\", 0.5,  500,0.5],\n",
    "    [\"Stephen Curry\",    \"grey\", 0.5, 2000,0.5],\n",
    "    [\"Russell Westbrook\",\"grey\", 0.5,  500,0.5],\n",
    "    [\"Kevin Durant\",     \"grey\", 0.0,    0,1.0],\n",
    "    [\"James Harden\",     \"grey\", 1.0, 1500,3.0],\n",
    "    [\"Carmelo Anthony\",  \"grey\", 0.5,  500,0.5],\n",
    "    [\"LeBron James\",     \"orange\",0.5,  500,0.5],\n",
    "    ],columns=[\"name\",\"color\",\"legendx\",\"legendy\",\"legendh\"])\n",
    "\n",
    "fig = plt.figure(figsize=(10,10))\n",
    "plt.subplots_adjust(left=0.2,right=0.8,top=0.9)\n",
    "plt.style.use('dark_background')\n",
    "plt.rcParams['font.size'] = 15\n",
    "plt.xlim(0, 21)\n",
    "plt.ylim(0, 42000)\n",
    "plt.xlabel(\"Career Seasons\")\n",
    "plt.ylabel(\"Total Points Scored\")\n",
    "plt.xticks(ticks=range(21), labels=range(21))\n",
    "plt.yticks(ticks=[i*10000 for i in range(4+1)], labels=[f\"{i*10000:,}\" for i in range(4+1)])\n",
    "plt.gca().spines['right'].set_visible(False)\n",
    "plt.gca().spines['top'].set_visible(False)\n",
    "plt.title(\"NBA - Career Seasons and Total Points Scored\\n(Only active players scored 20,000+, as of 2023-02-08)\")\n",
    "\n",
    "for _x in [5,10,15,20]:\n",
    "    plt.axvline(x=_x, ymin=0, ymax=40000,color=\"grey\",linewidth=1)\n",
    "for _y in [1,2,3,4]:\n",
    "    plt.axhline(y=_y*10000, xmin=0, xmax=20,color=\"grey\",linewidth=1)\n",
    "\n",
    "# organize data\n",
    "frames = []\n",
    "frame = []\n",
    "for name,color,legendx,legendy,legendh in df_setting.values:\n",
    "\n",
    "    _df = df_season_pivot[name].dropna()\n",
    "\n",
    "    for i in range(len(_df)):\n",
    "\n",
    "        fp = plt.plot(_df.head(i+1),linestyle=\"-\",color=color,linewidth=2,marker=\"o\",markersize=4,markerfacecolor=color,markeredgecolor=color)\n",
    "\n",
    "        if i < len(_df)-1:\n",
    "            frames.append(frame+fp)\n",
    "        else:\n",
    "            x,y = _df.index.max(),_df.max()\n",
    "            fl1 = plt.plot([x, x+legendx], [y, y+legendy],color=color,linewidth=1)\n",
    "            fl2 = plt.plot([x+legendx,x+legendx+legendh], [y+legendy, y+legendy],color=color,linewidth=1)\n",
    "            if name == \"LeBron James\":\n",
    "                flt = plt.text(x+legendx+legendh+0.5,y+legendy,f\" \\n{name}\\n{max(_df):,.0f}\",color=color,fontsize=15)\n",
    "            else:\n",
    "                flt = plt.text(x+legendx+legendh+0.5,y+legendy,name,color=color,fontsize=15)\n",
    "\n",
    "            frame = frame + fp + fl1 + fl2 + [flt]\n",
    "            frames.append(frame)\n",
    "\n",
    "for i in range(30):\n",
    "    frames.append(frame)\n",
    "# draw\n",
    "ani = ArtistAnimation(fig, frames, interval=60)\n",
    "ani.save('../output/20230209_NBA_Points_Ranking.gif')\n",
    "# html = display.HTML(ani.to_jshtml())\n",
    "# display.display(html)\n",
    "plt.close()"
   ]
  },
  {
   "cell_type": "code",
   "execution_count": null,
   "metadata": {},
   "outputs": [],
   "source": []
  }
 ],
 "metadata": {
  "kernelspec": {
   "display_name": "Python 3",
   "language": "python",
   "name": "python3"
  },
  "language_info": {
   "codemirror_mode": {
    "name": "ipython",
    "version": 3
   },
   "file_extension": ".py",
   "mimetype": "text/x-python",
   "name": "python",
   "nbconvert_exporter": "python",
   "pygments_lexer": "ipython3",
   "version": "3.8.2"
  },
  "orig_nbformat": 4,
  "vscode": {
   "interpreter": {
    "hash": "e3368f27a064efbf82e443a9cca844e3aada2df7ad8357fe3b3b0f9277c34130"
   }
  }
 },
 "nbformat": 4,
 "nbformat_minor": 2
}
