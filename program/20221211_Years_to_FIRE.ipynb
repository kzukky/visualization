{
 "cells": [
  {
   "cell_type": "code",
   "execution_count": 1,
   "metadata": {},
   "outputs": [],
   "source": [
    "# total asset (year) = salary * saving ratio * {1-(1+yield)^n} / {1-(1+yield)}\n",
    "#                    = salary * saving ratio * {(1+yield)^(n-1)-1}\n",
    "# Expense = salary * (1 - saving ratio)\n",
    "\n",
    "# condition: total asset(year) * yield >= Expense\n",
    "# year = log(1/saving ratio,base=1+yield) + 1"
   ]
  },
  {
   "cell_type": "code",
   "execution_count": 2,
   "metadata": {},
   "outputs": [],
   "source": [
    "import numpy as np\n",
    "import matplotlib.pyplot as plt\n",
    "from matplotlib.ticker import MultipleLocator"
   ]
  },
  {
   "cell_type": "code",
   "execution_count": 3,
   "metadata": {},
   "outputs": [
    {
     "name": "stderr",
     "output_type": "stream",
     "text": [
      "/var/folders/mk/_pnp5fc554ngsr2tytvgk86h0000gn/T/ipykernel_75664/3004503695.py:5: RuntimeWarning: divide by zero encountered in log\n",
      "  Z = 1- np.log(S) / np.log(1+Y)\n",
      "/var/folders/mk/_pnp5fc554ngsr2tytvgk86h0000gn/T/ipykernel_75664/3004503695.py:5: RuntimeWarning: divide by zero encountered in divide\n",
      "  Z = 1- np.log(S) / np.log(1+Y)\n"
     ]
    }
   ],
   "source": [
    "window = 0.001\n",
    "s = np.arange(0.00,1.00,window)\n",
    "y = np.arange(0.00,0.21,window)\n",
    "S,Y = np.meshgrid(s,y)\n",
    "Z = 1- np.log(S) / np.log(1+Y)"
   ]
  },
  {
   "cell_type": "code",
   "execution_count": 5,
   "metadata": {},
   "outputs": [],
   "source": [
    "fig,ax = plt.subplots(figsize=(10,10),facecolor=\"black\")\n",
    "# plt.style.use('dark_background')\n",
    "plt.rcParams['font.size'] = 15\n",
    "ax.set_axisbelow(True)\n",
    "\n",
    "cs = ax.contour(S, Y, Z,levels=[5,10,20,30,50,100],colors=\"white\",linewidths=2)\n",
    "ax.clabel(cs,fmt='%1.0f', fontsize=20)\n",
    "\n",
    "ax.set_xlim(0.00,1.00)\n",
    "ax.set_ylim(0.00,0.20)\n",
    "\n",
    "_x = np.arange(0.00,1.00+0.01,0.10)\n",
    "_y = np.arange(0.00,0.20+0.01,0.02)\n",
    "ax.set_xticks(_x,[f\"{int(i*100)}%\" for i in _x])\n",
    "ax.set_yticks(_y,[f\"{int(i*100)}%\" for i in _y])\n",
    "\n",
    "ax.xaxis.set_minor_locator(MultipleLocator(0.05))\n",
    "ax.yaxis.set_minor_locator(MultipleLocator(0.01))\n",
    "\n",
    "ax.set_title(\"Years to FIRE\")\n",
    "ax.set_xlabel(\"Savings Rate\")\n",
    "ax.set_ylabel(\" Annual Percentage Yield\")\n",
    "ax.grid(True,which=\"both\",color=\"grey\")\n",
    "fig.savefig(\"../output/20221211_Years_to_FIRE.png\")\n",
    "plt.close()"
   ]
  },
  {
   "cell_type": "code",
   "execution_count": null,
   "metadata": {},
   "outputs": [],
   "source": []
  }
 ],
 "metadata": {
  "kernelspec": {
   "display_name": "Python 3.8.10 64-bit",
   "language": "python",
   "name": "python3"
  },
  "language_info": {
   "codemirror_mode": {
    "name": "ipython",
    "version": 3
   },
   "file_extension": ".py",
   "mimetype": "text/x-python",
   "name": "python",
   "nbconvert_exporter": "python",
   "pygments_lexer": "ipython3",
   "version": "3.8.2"
  },
  "orig_nbformat": 4,
  "vscode": {
   "interpreter": {
    "hash": "e3368f27a064efbf82e443a9cca844e3aada2df7ad8357fe3b3b0f9277c34130"
   }
  }
 },
 "nbformat": 4,
 "nbformat_minor": 2
}
