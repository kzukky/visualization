{
 "cells": [
  {
   "cell_type": "code",
   "execution_count": 1,
   "metadata": {},
   "outputs": [],
   "source": [
    "# This program draws;\n",
    "# a. the relation between\n",
    "#    (X) the acquision date,\n",
    "#    (Y) the selling date, and\n",
    "#    (Z) the annualized return during the period\n",
    "# b. the relation between\n",
    "#    (X) the starting time of dollar cost avaraging strategy,\n",
    "#    (Y) the ending time of the strategy, and\n",
    "#    (Z) the annualized return during the period"
   ]
  },
  {
   "cell_type": "code",
   "execution_count": 2,
   "metadata": {},
   "outputs": [],
   "source": [
    "import yfinance as yf\n",
    "\n",
    "from tqdm import tqdm\n",
    "import pandas as pd\n",
    "import numpy as np\n",
    "import matplotlib as mpl\n",
    "import matplotlib.pyplot as plt\n",
    "import seaborn as sns\n",
    "\n",
    "%matplotlib inline"
   ]
  },
  {
   "cell_type": "code",
   "execution_count": 3,
   "metadata": {},
   "outputs": [
    {
     "name": "stdout",
     "output_type": "stream",
     "text": [
      "[*********************100%***********************]  1 of 1 completed\n"
     ]
    }
   ],
   "source": [
    "# interval '1d' gets older data than '1mo'\n",
    "df_SP500 = yf.download(['^GSPC'],interval='1d',period='max')\n",
    "\n",
    "# calculate monthly\n",
    "df_SP500['year'] = df_SP500.index.year\n",
    "df_SP500['month'] = df_SP500.index.month\n",
    "\n",
    "df_SP500.sort_index(inplace=True)\n",
    "df_SP500.drop_duplicates(['year','month'],inplace=True)\n",
    "\n",
    "df_SP500['month_passed'] = range(len(df_SP500))\n",
    "\n",
    "df_SP500.reset_index(inplace=True)\n",
    "df_SP500['Date'] = df_SP500['Date'].dt.strftime('%Y%m')"
   ]
  },
  {
   "cell_type": "code",
   "execution_count": 4,
   "metadata": {},
   "outputs": [],
   "source": [
    "df_st = df_SP500.rename(columns={col:'st_'+col for col in df_SP500.columns})\n",
    "df_en = df_SP500.rename(columns={col:'en_'+col for col in df_SP500.columns})\n",
    "\n",
    "df_cross = df_st.join(df_en,how='cross').query('st_month_passed<en_month_passed')\n",
    "\n",
    "df_cross['return'] = df_cross['en_Close'] / df_cross['st_Close']\n",
    "df_cross['month_gap'] = df_cross['en_month_passed'] - df_cross['st_month_passed']\n",
    "df_cross['return_annualized_a'] = (df_cross['return']) ** (12/df_cross['month_gap']) - 1"
   ]
  },
  {
   "cell_type": "code",
   "execution_count": 5,
   "metadata": {},
   "outputs": [
    {
     "name": "stderr",
     "output_type": "stream",
     "text": [
      "100%|██████████| 389403/389403 [11:27<00:00, 566.65it/s]\n"
     ]
    }
   ],
   "source": [
    "constant = 10000\n",
    "df_SP500['quantity'] = constant / df_SP500['Close']\n",
    "\n",
    "def b(st_month_passed:int,en_month_passed:int) -> float:\n",
    "    \n",
    "    df = df_SP500.query('@st_month_passed <= month_passed <= @en_month_passed').copy()\n",
    "    df.at[df.index[-1],'quantity'] = 0\n",
    "\n",
    "    latest_close = df.at[df.index[-1],'Close']\n",
    "\n",
    "    return_total = latest_close * sum(df['quantity']) / (constant*(len(df)-1))\n",
    "\n",
    "    return return_total ** (12/(len(df)-1)) - 1\n",
    "\n",
    "l = []\n",
    "for st,en in tqdm(df_cross[['st_month_passed','en_month_passed']].values):\n",
    "    l.append(b(st,en))\n",
    "df_cross['return_annualized_b'] = l"
   ]
  },
  {
   "cell_type": "code",
   "execution_count": 6,
   "metadata": {},
   "outputs": [],
   "source": [
    "df_cross['return_annualized_a'] *= 100\n",
    "df_cross['return_annualized_b'] *= 100"
   ]
  },
  {
   "cell_type": "code",
   "execution_count": 15,
   "metadata": {},
   "outputs": [],
   "source": [
    "fig = plt.figure(figsize=(20,15))\n",
    "plt.rcParams['font.size'] = 20\n",
    "plt.style.use('dark_background')\n",
    "sns.heatmap(\n",
    "    df_cross.pivot(index='st_Date',columns='en_Date',values='return_annualized_a'),\n",
    "    cmap=sns.color_palette(\"Spectral\", as_cmap=True),\n",
    "    square=True,\n",
    "    vmax=15, vmin=-15, center=0\n",
    ")\n",
    "plt.title(f\"Buying/Selling Month and Annualized Return [%] of S&P 500\")\n",
    "plt.xlabel(\"Buying Month\")\n",
    "plt.ylabel(f\"Selling Month\")\n",
    "\n",
    "ticks = [i for i,(y,m) in enumerate(df_SP500[['year','month']].values) if y%2==0 and m==1]\n",
    "labels = [y for i,(y,m) in enumerate(df_SP500[['year','month']].values) if y%2==0 and m==1]\n",
    "plt.xticks(ticks=ticks, labels=labels)\n",
    "plt.yticks(ticks=ticks, labels=labels)\n",
    "\n",
    "for i,(y,m) in enumerate(df_SP500[['year','month']].values):\n",
    "    if y%10==0 and m==1:\n",
    "        plt.axvline(x=i,color=\"grey\",linewidth=1)\n",
    "        plt.axhline(y=i,color=\"grey\",linewidth=1)\n",
    "\n",
    "fig.savefig(\"../output/20230706_Start_End_and_Return_a.png\")\n",
    "plt.close()"
   ]
  },
  {
   "cell_type": "code",
   "execution_count": 14,
   "metadata": {},
   "outputs": [],
   "source": [
    "fig = plt.figure(figsize=(20,15))\n",
    "plt.rcParams['font.size'] = 20\n",
    "plt.style.use('dark_background')\n",
    "sns.heatmap(\n",
    "    df_cross.pivot(index='st_Date',columns='en_Date',values='return_annualized_b'),\n",
    "    cmap=sns.color_palette(\"Spectral\", as_cmap=True),\n",
    "    square=True,\n",
    "    vmax=15, vmin=-15, center=0\n",
    ")\n",
    "plt.title(f\"Dollar Cost Strategy Starting/Ending Month and Annualized Return [%] of S&P 500\")\n",
    "plt.xlabel(\"Starting Month\")\n",
    "plt.ylabel(f\"Ending Month\")\n",
    "\n",
    "ticks = [i for i,(y,m) in enumerate(df_SP500[['year','month']].values) if y%2==0 and m==1]\n",
    "labels = [y for i,(y,m) in enumerate(df_SP500[['year','month']].values) if y%2==0 and m==1]\n",
    "plt.xticks(ticks=ticks, labels=labels)\n",
    "plt.yticks(ticks=ticks, labels=labels)\n",
    "\n",
    "for i,(y,m) in enumerate(df_SP500[['year','month']].values):\n",
    "    if y%10==0 and m==1:\n",
    "        plt.axvline(x=i,color=\"grey\",linewidth=1)\n",
    "        plt.axhline(y=i,color=\"grey\",linewidth=1)\n",
    "\n",
    "fig.savefig(\"../output/20230706_Start_End_and_Return_b.png\")\n",
    "plt.close()"
   ]
  },
  {
   "cell_type": "code",
   "execution_count": null,
   "metadata": {},
   "outputs": [],
   "source": []
  }
 ],
 "metadata": {
  "kernelspec": {
   "display_name": "Python 3",
   "language": "python",
   "name": "python3"
  },
  "language_info": {
   "codemirror_mode": {
    "name": "ipython",
    "version": 3
   },
   "file_extension": ".py",
   "mimetype": "text/x-python",
   "name": "python",
   "nbconvert_exporter": "python",
   "pygments_lexer": "ipython3",
   "version": "3.8.2"
  },
  "orig_nbformat": 4
 },
 "nbformat": 4,
 "nbformat_minor": 2
}
