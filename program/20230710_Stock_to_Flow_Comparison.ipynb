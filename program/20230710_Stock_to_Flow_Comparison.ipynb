{
 "cells": [
  {
   "cell_type": "code",
   "execution_count": 6,
   "metadata": {},
   "outputs": [],
   "source": [
    "# This program draws;\n",
    "# the relation between\n",
    "#    (X) Stock/Flow ratio, and\n",
    "#    (Z) the price of gold"
   ]
  },
  {
   "cell_type": "code",
   "execution_count": 7,
   "metadata": {},
   "outputs": [],
   "source": [
    "# references\n",
    "# Gold\n",
    "# [1] https://www.usgs.gov/centers/national-minerals-information-center/gold-statistics-and-information\n",
    "# [2] https://www.gold.org/goldhub/data/how-much-gold\n",
    "# [3] https://www.macrotrends.net/1333/historical-gold-prices-100-year-chart\n",
    "\n",
    "above_ground_2022 = 208_874 # tonnes\n",
    "\n",
    "# Silver\n",
    "# [4] https://cpmgroup.com/how-much-silver-is-above-ground/\n",
    "# [5] https://companiesmarketcap.com/silver/marketcap/#:~:text=Estimated%20Market%20Cap%3A%20%241.310%20T\n",
    "# Platinum\n",
    "# [6] https://swissgoldsafe.ch/en/additional-information/fundamentals-precious-metals/stock-to-flow-ratio/#:~:text=Compared%20to%20other%20precious%20metals,for%20silver%20stands%20at%2022.\n",
    "# [7] https://companiesmarketcap.com/platinum/marketcap/\n",
    "# Palladium\n",
    "# [8] https://www.goldpriceforecast.com/explanations/size-the-palladium-market/\n",
    "# [9] https://companiesmarketcap.com/palladium/marketcap/\n",
    "\n",
    "# silver 30~60 - $1.310T\n",
    "# platinum 1 - $229.82B\n",
    "# palladium 1 - $217.61B"
   ]
  },
  {
   "cell_type": "code",
   "execution_count": 8,
   "metadata": {},
   "outputs": [],
   "source": [
    "import pandas as pd\n",
    "import numpy as np\n",
    "import yfinance as yf\n",
    "import matplotlib.pyplot as plt"
   ]
  },
  {
   "attachments": {},
   "cell_type": "markdown",
   "metadata": {},
   "source": [
    "Stock/Flow - Gold"
   ]
  },
  {
   "cell_type": "code",
   "execution_count": 9,
   "metadata": {},
   "outputs": [],
   "source": [
    "df_gold_q = pd.read_csv('../input/20230709_gold_production.csv')\n",
    "df_gold_q['Flow'] = df_gold_q['Amount'].shift(-1)\n",
    "df_gold_q['Stock'] = above_ground_2022 - df_gold_q.loc[::-1, 'Flow'].fillna(0).cumsum()[::-1]\n",
    "\n",
    "df_gold_q['Stock_to_Flow'] = df_gold_q['Stock']/df_gold_q['Flow']"
   ]
  },
  {
   "attachments": {},
   "cell_type": "markdown",
   "metadata": {},
   "source": [
    "Price"
   ]
  },
  {
   "cell_type": "code",
   "execution_count": 10,
   "metadata": {},
   "outputs": [],
   "source": [
    "df_gold_p = pd.read_csv('../input/20230709_gold_price.csv')\n",
    "df_gold_p.rename(columns={'Year Close':'Price'},inplace=True)"
   ]
  },
  {
   "attachments": {},
   "cell_type": "markdown",
   "metadata": {},
   "source": [
    "Merge"
   ]
  },
  {
   "cell_type": "code",
   "execution_count": 11,
   "metadata": {},
   "outputs": [],
   "source": [
    "df_gold = pd.merge(df_gold_q,df_gold_p,how='left',on='Year')\n",
    "df_gold['market_value'] = df_gold['Stock']*35274*df_gold['Price']"
   ]
  },
  {
   "attachments": {},
   "cell_type": "markdown",
   "metadata": {},
   "source": [
    "Bitcoin"
   ]
  },
  {
   "cell_type": "code",
   "execution_count": 12,
   "metadata": {},
   "outputs": [],
   "source": [
    "df_bitcoin = pd.read_csv('../input/20230710_bitcoin_s2f.csv',index_col=0)\n",
    "df_bitcoin['market_value'] = df_bitcoin['Stock']*df_bitcoin['Price']"
   ]
  },
  {
   "attachments": {},
   "cell_type": "markdown",
   "metadata": {},
   "source": [
    "Draw"
   ]
  },
  {
   "cell_type": "code",
   "execution_count": 13,
   "metadata": {},
   "outputs": [],
   "source": [
    "plt.figure(figsize=(20,15))\n",
    "plt.rcParams['font.size'] = 20\n",
    "plt.rcParams['axes.axisbelow'] = True\n",
    "plt.style.use('dark_background')\n",
    "\n",
    "# plt.xscale('log')\n",
    "plt.yscale('log')\n",
    "x_min,x_max = 0,80\n",
    "y_min,y_max = 5,14\n",
    "plt.xlim(x_min,x_max)\n",
    "plt.ylim(10**y_min,10**y_max)\n",
    "\n",
    "xticks=[i for i in range(x_min,x_max+1) if i%10==0]\n",
    "xlabels = [i for i in range(x_min,x_max+1) if i%10==0]\n",
    "plt.xticks(ticks=xticks, labels=xlabels)\n",
    "yticks=[10**i for i in range(y_min,y_max+1)]\n",
    "_str = ['','K','M','B','T']\n",
    "ylabels = [f'${10**(i%3):,}{_str[i//3]}' for i in range(y_min,y_max+1)]\n",
    "plt.yticks(ticks=yticks, labels=ylabels)\n",
    "\n",
    "for i in xticks:\n",
    "    plt.axvline(x=i,color=\"grey\",linewidth=1)\n",
    "for i in yticks:\n",
    "    plt.axhline(y=i,color=\"grey\",linewidth=1)\n",
    "\n",
    "other_metals = [\n",
    "    ['Silver',  30,   1.310*10**12,1.0],\n",
    "    ['Platinum', 1, 229.82 *10**9, 1.2],\n",
    "    ['Palladium',1, 217.61 *10**9, 0.8],\n",
    "]\n",
    "for name,x,y,_y in other_metals:\n",
    "    plt.scatter(x,y,s=10**3,color='grey')\n",
    "    plt.text(x+2,y*_y,name,color='white',fontsize=15)\n",
    "\n",
    "plt.scatter(df_gold['Stock_to_Flow'],df_gold['market_value'],s=10**2,color='yellow')\n",
    "plt.scatter(df_bitcoin['Stock_to_Flow'],df_bitcoin['market_value'],s=10**1,color='white')\n",
    "plt.text(70,10**13,'Gold',color='yellow',fontsize=15)\n",
    "plt.text(70,10**11.75,'Bitcoin',color='white',fontsize=15)\n",
    "\n",
    "plt.title(f\"Stock/Flow and Market Capitalization\")\n",
    "plt.xlabel(\"Stock/Flow\")\n",
    "plt.ylabel(\"Market Capitalization\")\n",
    "\n",
    "plt.savefig(\"../output/20230710_Stock_to_Flow_ylog.png\")\n",
    "plt.close()"
   ]
  },
  {
   "cell_type": "code",
   "execution_count": 14,
   "metadata": {},
   "outputs": [],
   "source": [
    "plt.figure(figsize=(20,15))\n",
    "plt.rcParams['font.size'] = 20\n",
    "plt.rcParams['axes.axisbelow'] = True\n",
    "plt.style.use('dark_background')\n",
    "\n",
    "plt.xscale('log')\n",
    "plt.yscale('log')\n",
    "x_min,x_max = 1,80\n",
    "y_min,y_max = 5,14\n",
    "plt.xlim(x_min,x_max)\n",
    "plt.ylim(10**y_min,10**y_max)\n",
    "\n",
    "xticks=[i for i in range(x_min,x_max+1) if i%10==0 or i==1]\n",
    "xlabels = [i for i in range(x_min,x_max+1) if i%10==0 or i==1]\n",
    "plt.xticks(ticks=xticks, labels=xlabels)\n",
    "yticks=[10**i for i in range(y_min,y_max+1)]\n",
    "_str = ['','K','M','B','T']\n",
    "ylabels = [f'${10**(i%3):,}{_str[i//3]}' for i in range(y_min,y_max+1)]\n",
    "plt.yticks(ticks=yticks, labels=ylabels)\n",
    "\n",
    "for i in xticks:\n",
    "    plt.axvline(x=i,color=\"grey\",linewidth=1)\n",
    "for i in yticks:\n",
    "    plt.axhline(y=i,color=\"grey\",linewidth=1)\n",
    "\n",
    "other_metals = [\n",
    "    ['Silver',  30,   1.310*10**12,1.0],\n",
    "    ['Platinum', 1, 229.82 *10**9, 1.2],\n",
    "    ['Palladium',1, 217.61 *10**9, 0.8],\n",
    "]\n",
    "for name,x,y,_y in other_metals:\n",
    "    plt.scatter(x,y,s=10**3,color='grey')\n",
    "    plt.text(x*1.2,y*_y,name,color='white',fontsize=15)\n",
    "\n",
    "plt.scatter(df_gold['Stock_to_Flow'],df_gold['market_value'],s=10**2,color='yellow')\n",
    "plt.scatter(df_bitcoin['Stock_to_Flow'],df_bitcoin['market_value'],s=10**1,color='white')\n",
    "plt.text(70,10**13,'Gold',color='yellow',fontsize=15)\n",
    "plt.text(70,10**11.75,'Bitcoin',color='white',fontsize=15)\n",
    "\n",
    "plt.title(f\"Stock/Flow and Market Capitalization\")\n",
    "plt.xlabel(\"Stock/Flow\")\n",
    "plt.ylabel(\"Market Capitalization\")\n",
    "\n",
    "plt.savefig(\"../output/20230710_Stock_to_Flow_xlog_ylog.png\")\n",
    "plt.close()"
   ]
  },
  {
   "cell_type": "code",
   "execution_count": null,
   "metadata": {},
   "outputs": [],
   "source": []
  }
 ],
 "metadata": {
  "kernelspec": {
   "display_name": "Python 3",
   "language": "python",
   "name": "python3"
  },
  "language_info": {
   "codemirror_mode": {
    "name": "ipython",
    "version": 3
   },
   "file_extension": ".py",
   "mimetype": "text/x-python",
   "name": "python",
   "nbconvert_exporter": "python",
   "pygments_lexer": "ipython3",
   "version": "3.8.2"
  },
  "orig_nbformat": 4
 },
 "nbformat": 4,
 "nbformat_minor": 2
}
